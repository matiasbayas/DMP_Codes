{
 "cells": [
  {
   "cell_type": "code",
   "execution_count": 1,
   "metadata": {},
   "outputs": [],
   "source": [
    "import numpy as np\n",
    "import scipy.optimize as opt\n",
    "import matplotlib.pyplot as plt\n",
    "import pandas as pd"
   ]
  },
  {
   "cell_type": "markdown",
   "metadata": {},
   "source": [
    "## Part 1: Income Process"
   ]
  },
  {
   "cell_type": "code",
   "execution_count": 2,
   "metadata": {},
   "outputs": [],
   "source": [
    "def unc_mean(x):\n",
    "    y_h, y_l = x\n",
    "    return(y_h/2 + y_l/2)\n",
    "\n",
    "def unc_variance(x):\n",
    "    y_h, y_l = x\n",
    "    return(np.log(y_h)**2/2 + np.log(y_l)**2/2 - (np.log(y_h)/2 + np.log(y_l)/2)**2)\n",
    "\n",
    "def system_1(x):\n",
    "    return(unc_mean(x) - 1, unc_variance(x) - 0.02**2)\n",
    "\n",
    "y_h, y_l = opt.fsolve(system_1, (1,0.5))\n",
    "\n",
    "def auto_correl(x):\n",
    "    return(((1-x)*(np.log(y_h)**2 + np.log(y_l)**2)/2 + x*np.log(y_h)*np.log(y_l) \n",
    "            - (np.log(y_h)/2 + np.log(y_l)/2)**2)/unc_variance((y_h,y_l)) - 0.878)\n",
    "\n",
    "pi = opt.fsolve(auto_correl, 0)\n",
    "pi = pi[0]\n",
    "\n",
    "P = np.array([(1-pi,pi),(pi,1-pi)])"
   ]
  },
  {
   "cell_type": "markdown",
   "metadata": {},
   "source": [
    "We find the following values for the income process:\n",
    "$$ y_h = 1.02  $$\n",
    "$$ y_l = 0.98 $$\n",
    "$$ \\pi = 0.06 $$ "
   ]
  },
  {
   "cell_type": "markdown",
   "metadata": {},
   "source": [
    "## Part 2: Steady State and Calibration"
   ]
  },
  {
   "cell_type": "code",
   "execution_count": 3,
   "metadata": {},
   "outputs": [],
   "source": [
    "# Parameters:\n",
    "beta = 0.99\n",
    "s = 0.1\n",
    "alpha = 0.72\n",
    "eta = 1 - alpha\n",
    "kappa = 1\n",
    "y_ss = 1\n",
    "\n",
    "# Equilibrium Conditions:\n",
    "def ss_vacancies(x):\n",
    "    theta, b, h = x\n",
    "    return(kappa - beta*h*theta**(-alpha)*eta*(y_ss - b)/(1-beta*(1-s-h*theta**(1-alpha)*(1-eta))))\n",
    "\n",
    "def ss_fr(x):\n",
    "    theta, b, h = x\n",
    "    return(h*theta**(1-alpha))\n",
    "\n",
    "def ss_ratio(x):\n",
    "    theta, b, h = x\n",
    "    return((y_ss - (1-beta*(1-s))*eta*((y_ss - b)/(1-beta*(1-s-h*theta**(1-alpha)*(1-eta)))))/b)\n",
    "\n",
    "def system_2(x):\n",
    "    return(ss_vacancies(x),ss_fr(x) - 0.83, ss_ratio(x) - 1/0.4)\n",
    "\n",
    "theta_ss, b, h = opt.fsolve(system_2, (0.2,0.3,1)) \n",
    "u_ss = s/(s+h*theta_ss**(1-alpha))"
   ]
  },
  {
   "cell_type": "markdown",
   "metadata": {},
   "source": [
    "We find the following:\n",
    "$$\\theta_{ss} = 0.2005 $$\n",
    "$$ b = 0.3894 $$\n",
    "$$ h = 1.3016 $$\n",
    "\n",
    "We can normalize $\\kappa = 1$ without loss of generality because the matching function exhibits constant returns to scale."
   ]
  },
  {
   "cell_type": "markdown",
   "metadata": {},
   "source": [
    "## Part 3: Solving for $\\Theta(y_h)$ and $\\Theta(y_l)$:"
   ]
  },
  {
   "cell_type": "code",
   "execution_count": 4,
   "metadata": {},
   "outputs": [],
   "source": [
    "tol = 1e-9\n",
    "diff = 1\n",
    "income_supp = np.array([y_h,y_l]) \n",
    "\n",
    "S_init = income_supp - b\n",
    "\n",
    "while diff > tol:\n",
    "    theta = ((h*beta*eta/kappa)*S_init@P)**(1/alpha)\n",
    "    S_new = income_supp - b + beta*(1-s - h*theta**(1-alpha)*(1-eta))*(S_init@P)\n",
    "    diff = np.amax(abs(S_new - S_init))\n",
    "    S_init = S_new\n"
   ]
  },
  {
   "cell_type": "markdown",
   "metadata": {},
   "source": [
    "We find the following values for $\\Theta(\\cdot)$:\n",
    "$$ \\Theta(y_h) = 0.2065 $$\n",
    "$$ \\Theta(y_l) = 0.1946  $$"
   ]
  },
  {
   "cell_type": "markdown",
   "metadata": {},
   "source": [
    "## Part 4: Standard Deviations and Autocorrelations"
   ]
  },
  {
   "cell_type": "code",
   "execution_count": 5,
   "metadata": {},
   "outputs": [],
   "source": [
    "# Simulate State of the System:\n",
    "N = 20000\n",
    "states = ('H','L')\n",
    "state_sim = [states[0]]\n",
    "for it in range(N):\n",
    "    if state_sim[it] == 'H':\n",
    "        state_sim.append(np.random.choice(states,1, p = [1-pi,pi])[0])\n",
    "    else:\n",
    "        state_sim.append(np.random.choice(states,1, p = [pi,1-pi])[0])\n",
    "        "
   ]
  },
  {
   "cell_type": "code",
   "execution_count": 6,
   "metadata": {},
   "outputs": [],
   "source": [
    "# Unemployment:\n",
    "u_sim = [u_ss]\n",
    "for it in range(N):\n",
    "    if state_sim[it] == 'H':\n",
    "        u_sim.append((1-h*theta[0]**(1-alpha))*u_sim[it] + (1-u_sim[it])*s )\n",
    "    else:\n",
    "        u_sim.append((1-h*theta[1]**(1-alpha))*u_sim[it] + (1-u_sim[it])*s )\n",
    "        \n",
    "# Vacancies\n",
    "v_ss = theta_ss*u_ss\n",
    "v_sim = [v_ss]\n",
    "for it in range(N):\n",
    "    if state_sim[it] == 'H':\n",
    "        v_sim.append(theta[0]*u_sim[it])\n",
    "    else:\n",
    "        v_sim.append(theta[1]*u_sim[it])\n",
    "\n",
    "# Market Tightness\n",
    "theta_sim = [theta_ss]\n",
    "for it in range(N):\n",
    "    if state_sim[it] == 'H':\n",
    "        theta_sim.append(theta[0])\n",
    "    else:\n",
    "        theta_sim.append(theta[1])\n",
    "        \n",
    "# Finding Rate:\n",
    "fr_ss = h*theta_ss**(1-alpha)\n",
    "fr_sim = [fr_ss]\n",
    "for it in range(N):\n",
    "    if state_sim[it] == 'H':\n",
    "        fr_sim.append(h*theta[0]**(1-alpha))\n",
    "    else:\n",
    "        fr_sim.append(h*theta[1]**(1-alpha))\n",
    "\n",
    "\n",
    "u_sim = np.log(u_sim)\n",
    "v_sim = np.log(v_sim)\n",
    "theta_sim = np.log(theta_sim)\n",
    "fr_sim = np.log(fr_sim)\n",
    "\n",
    "u_sd = np.sqrt(np.var(u_sim))\n",
    "u_acr = pd.Series(u_sim).autocorr(4)\n",
    "\n",
    "v_sd = np.sqrt(np.var(v_sim))\n",
    "v_acr = pd.Series(v_sim).autocorr(4)\n",
    "\n",
    "theta_sd = np.sqrt(np.var(theta_sim))\n",
    "theta_acr = pd.Series(theta_sim).autocorr(4)\n",
    "\n",
    "fr_sd = np.sqrt(np.var(fr_sim))\n",
    "fr_acr = pd.Series(fr_sim).autocorr(4)\n"
   ]
  },
  {
   "cell_type": "markdown",
   "metadata": {},
   "source": [
    "We find the following values for the standard deviation and quarterly autocorrelations of unemployment, vacancies, market tightness, and finding rate:\n",
    "$$ \\sigma_u = 0.0074 \\hspace{0.8cm} \\rho_u = 0.6143 $$\n",
    "$$ \\sigma_v = 0.0235 \\hspace{0.8cm} \\rho_v = 0.5394 $$\n",
    "$$ \\sigma_\\theta = 0.0298 \\hspace{0.8cm} \\rho_\\theta = 0.6035 $$\n",
    "$$ \\sigma_f = 0.0083 \\hspace{0.8cm} \\rho_f = 0.6035 $$\n"
   ]
  },
  {
   "cell_type": "markdown",
   "metadata": {},
   "source": [
    "## Part 5: Changing Unemployment Benefits"
   ]
  },
  {
   "cell_type": "code",
   "execution_count": 18,
   "metadata": {},
   "outputs": [],
   "source": [
    "b = 0.5\n",
    "\n",
    "tol = 1e-9\n",
    "diff = 1\n",
    "income_supp = np.array([y_h,y_l]) \n",
    "\n",
    "S_init = income_supp - b\n",
    "\n",
    "while diff > tol:\n",
    "    theta = ((h*beta*eta/kappa)*S_init@P)**(1/alpha)\n",
    "    S_new = income_supp - b + beta*(1-s - h*theta**(1-alpha)*(1-eta))*(S_init@P)\n",
    "    diff = np.amax(abs(S_new - S_init))\n",
    "    S_init = S_new"
   ]
  },
  {
   "cell_type": "markdown",
   "metadata": {},
   "source": [
    "With this new value for $b$, we have the following values for $\\Theta(\\cdot)$:\n",
    "$$ \\Theta(y_h) = 0.1686 $$\n",
    "$$ \\Theta(y_l) = 0.1568 $$\n",
    "As expected, higher value of unemployment benefits decreases market tightness since this lowers the surplus from a match for a firm and increases the value of unemployment for workers. "
   ]
  },
  {
   "cell_type": "code",
   "execution_count": 19,
   "metadata": {
    "collapsed": true
   },
   "outputs": [],
   "source": [
    "# Simulate State of the System:\n",
    "N = 20000\n",
    "states = ('H','L')\n",
    "state_sim = [states[0]]\n",
    "for it in range(N):\n",
    "    if state_sim[it] == 'H':\n",
    "        state_sim.append(np.random.choice(states,1, p = [1-pi,pi])[0])\n",
    "    else:\n",
    "        state_sim.append(np.random.choice(states,1, p = [pi,1-pi])[0])\n",
    "        \n",
    "# Unemployment:\n",
    "u_sim = [u_ss]\n",
    "for it in range(N):\n",
    "    if state_sim[it] == 'H':\n",
    "        u_sim.append((1-h*theta[0]**(1-alpha))*u_sim[it] + (1-u_sim[it])*s )\n",
    "    else:\n",
    "        u_sim.append((1-h*theta[1]**(1-alpha))*u_sim[it] + (1-u_sim[it])*s )\n",
    "        \n",
    "# Vacancies\n",
    "v_ss = theta_ss*u_ss\n",
    "v_sim = [v_ss]\n",
    "for it in range(N):\n",
    "    if state_sim[it] == 'H':\n",
    "        v_sim.append(theta[0]*u_sim[it])\n",
    "    else:\n",
    "        v_sim.append(theta[1]*u_sim[it])\n",
    "\n",
    "# Market Tightness\n",
    "theta_sim = [theta_ss]\n",
    "for it in range(N):\n",
    "    if state_sim[it] == 'H':\n",
    "        theta_sim.append(theta[0])\n",
    "    else:\n",
    "        theta_sim.append(theta[1])\n",
    "        \n",
    "# Finding Rate:\n",
    "fr_ss = h*theta_ss**(1-alpha)\n",
    "fr_sim = [fr_ss]\n",
    "for it in range(N):\n",
    "    if state_sim[it] == 'H':\n",
    "        fr_sim.append(h*theta[0]**(1-alpha))\n",
    "    else:\n",
    "        fr_sim.append(h*theta[1]**(1-alpha))\n",
    "\n",
    "\n",
    "u_sim = np.log(u_sim)\n",
    "v_sim = np.log(v_sim)\n",
    "theta_sim = np.log(theta_sim)\n",
    "fr_sim = np.log(fr_sim)\n",
    "\n",
    "u_sd = np.sqrt(np.var(u_sim))\n",
    "u_acr = pd.Series(u_sim).autocorr(4)\n",
    "\n",
    "v_sd = np.sqrt(np.var(v_sim))\n",
    "v_acr = pd.Series(v_sim).autocorr(4)\n",
    "\n",
    "theta_sd = np.sqrt(np.var(theta_sim))\n",
    "theta_acr = pd.Series(theta_sim).autocorr(4)\n",
    "\n",
    "fr_sd = np.sqrt(np.var(fr_sim))\n",
    "fr_acr = pd.Series(fr_sim).autocorr(4)"
   ]
  },
  {
   "cell_type": "markdown",
   "metadata": {},
   "source": [
    "Moreover, higher value of $b$ should increase the elasticity of market tightness, so we should find more volatility. These are the standard deviations and the autocorrelations following the increase in unemployment benefits:\n",
    "$$ \\sigma_u = 0.0089 \\hspace{0.8cm} \\rho_u = 0.6093 $$\n",
    "$$ \\sigma_v = 0.0288 \\hspace{0.8cm} \\rho_v = 0.5217 $$\n",
    "$$ \\sigma_\\theta = 0.0363 \\hspace{0.8cm} \\rho_\\theta = 0.5901 $$\n",
    "$$ \\sigma_f = 0.0102\\hspace{0.8cm} \\rho_f = 0.5901 $$\n",
    "As it can be seen, there is indeed an increase in volatilities and a decrease in persistence. This decrease in autocorrelation follows from the fact that..."
   ]
  },
  {
   "cell_type": "code",
   "execution_count": null,
   "metadata": {
    "collapsed": true
   },
   "outputs": [],
   "source": []
  }
 ],
 "metadata": {
  "kernelspec": {
   "display_name": "Python 3",
   "language": "python",
   "name": "python3"
  },
  "language_info": {
   "codemirror_mode": {
    "name": "ipython",
    "version": 3
   },
   "file_extension": ".py",
   "mimetype": "text/x-python",
   "name": "python",
   "nbconvert_exporter": "python",
   "pygments_lexer": "ipython3",
   "version": "3.6.1"
  }
 },
 "nbformat": 4,
 "nbformat_minor": 2
}
